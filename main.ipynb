{
 "cells": [
  {
   "cell_type": "code",
   "execution_count": 147,
   "metadata": {},
   "outputs": [],
   "source": [
    "import pandas as pd \n",
    "import numpy as np"
   ]
  },
  {
   "cell_type": "code",
   "execution_count": 148,
   "metadata": {},
   "outputs": [],
   "source": [
    "df = pd.read_csv('DataSet/titles.csv')"
   ]
  },
  {
   "cell_type": "code",
   "execution_count": 149,
   "metadata": {},
   "outputs": [],
   "source": [
    "df = df.drop([\"description\",\"seasons\",\"imdb_id\",\"age_certification\"],axis=1)"
   ]
  },
  {
   "cell_type": "code",
   "execution_count": 150,
   "metadata": {},
   "outputs": [],
   "source": [
    "import seaborn as sns"
   ]
  },
  {
   "cell_type": "code",
   "execution_count": 151,
   "metadata": {},
   "outputs": [],
   "source": [
    "import pandas as pd\n",
    "from sklearn.impute import KNNImputer\n",
    "\n",
    "# Select float columns\n",
    "float_cols = df.select_dtypes(include=['float64']).columns\n",
    "\n",
    "# Create imputer and apply only to float columns\n",
    "imputer = KNNImputer(n_neighbors=5)  # Adjust n_neighbors as needed\n",
    "df[float_cols] = imputer.fit_transform(df[float_cols])\n"
   ]
  },
  {
   "cell_type": "code",
   "execution_count": 152,
   "metadata": {},
   "outputs": [
    {
     "name": "stderr",
     "output_type": "stream",
     "text": [
      "<>:1: SyntaxWarning: invalid escape sequence '\\c'\n",
      "<>:1: SyntaxWarning: invalid escape sequence '\\c'\n",
      "C:\\Users\\HARSH\\AppData\\Local\\Temp\\ipykernel_15088\\3480963247.py:1: SyntaxWarning: invalid escape sequence '\\c'\n",
      "  df2 = pd.read_csv('DataSet\\credits.csv')\n"
     ]
    }
   ],
   "source": [
    "df2 = pd.read_csv('DataSet\\credits.csv')"
   ]
  },
  {
   "cell_type": "code",
   "execution_count": 153,
   "metadata": {},
   "outputs": [
    {
     "data": {
      "text/plain": [
       "Index(['id', 'name', 'role'], dtype='object')"
      ]
     },
     "execution_count": 153,
     "metadata": {},
     "output_type": "execute_result"
    }
   ],
   "source": [
    "df2=df2.drop(columns=['person_id','character'],axis=1)\n",
    "df2.columns"
   ]
  },
  {
   "cell_type": "code",
   "execution_count": 154,
   "metadata": {},
   "outputs": [],
   "source": [
    "grouped = df2.groupby(['id', 'role'])['name'].agg(set).reset_index()\n",
    "\n",
    "result = grouped.pivot_table(index='id', columns='role', values='name', aggfunc=lambda x: x, fill_value='').reset_index()\n",
    "\n",
    "# Rename the columns\n",
    "result.columns = ['id', 'cast', 'director']\n",
    "df2=result"
   ]
  },
  {
   "cell_type": "code",
   "execution_count": 155,
   "metadata": {},
   "outputs": [],
   "source": [
    "merged_df = pd.merge(df, df2, on=\"id\", suffixes=(\"_df1\", \"_df2\"))"
   ]
  },
  {
   "cell_type": "code",
   "execution_count": 156,
   "metadata": {},
   "outputs": [],
   "source": [
    "merged_df.dropna(inplace=True)\n",
    "merged_df.isnull().sum()\n",
    "merged_df['director'] = merged_df['director'].astype(str)\n",
    "merged_df['cast'] = merged_df['cast'].astype(str)"
   ]
  },
  {
   "cell_type": "code",
   "execution_count": 157,
   "metadata": {},
   "outputs": [],
   "source": [
    "cols=['id','type','release_year','runtime','genres','production_countries','imdb_score','imdb_votes','cast','director']\n",
    "tdf=pd.DataFrame()\n",
    "for col in cols:\n",
    "    tdf[col]=merged_df[col]"
   ]
  },
  {
   "cell_type": "code",
   "execution_count": 158,
   "metadata": {},
   "outputs": [],
   "source": [
    "# Define a function to remove punctuation\n",
    "def remove_punctuation(text):\n",
    "  import string\n",
    "  return ''.join([c for c in text if c not in string.punctuation])\n",
    "\n",
    "# Apply the function to the entire feature column\n",
    "tdf['genres'] = tdf['genres'].apply(remove_punctuation)\n",
    "tdf['production_countries'] = tdf['production_countries'].apply(remove_punctuation)\n",
    "tdf['cast'] = tdf['cast'].apply(remove_punctuation)\n",
    "tdf['director'] = tdf['director'].apply(remove_punctuation)\n",
    "tdf['type'] = tdf['type'].apply(remove_punctuation)\n"
   ]
  },
  {
   "cell_type": "code",
   "execution_count": 159,
   "metadata": {},
   "outputs": [],
   "source": [
    "def split_genres(text):\n",
    "  return set(text.lower().split())\n",
    "\n",
    "# Apply the function to the entire feature column\n",
    "tdf['genres'] = tdf['genres'].apply(split_genres)\n",
    "tdf['cast'] = tdf['cast'].apply(split_genres)\n",
    "tdf['director'] = tdf['director'].apply(split_genres)\n",
    "tdf['production_countries'] = tdf['production_countries'].apply(split_genres)\n",
    "tdf['type'] = tdf['type'].apply(split_genres)"
   ]
  },
  {
   "cell_type": "code",
   "execution_count": 160,
   "metadata": {},
   "outputs": [],
   "source": [
    "from sklearn.preprocessing import MultiLabelBinarizer\n",
    "mlbg = MultiLabelBinarizer()\n",
    "mlbc = MultiLabelBinarizer()\n",
    "mlbt = MultiLabelBinarizer()\n",
    "mlbg.fit(tdf[\"genres\"])\n",
    "mlbc.fit(tdf['production_countries'])\n",
    "mlbt.fit(tdf['type'])\n",
    "encoded_genres = mlbg.transform(tdf[\"genres\"])\n",
    "encoded_countries = mlbc.transform(tdf['production_countries'])\n",
    "encoded_type = mlbt.transform(tdf['type'])"
   ]
  },
  {
   "cell_type": "code",
   "execution_count": 161,
   "metadata": {},
   "outputs": [],
   "source": [
    "def convert(arr):\n",
    "    num=0\n",
    "    for i in range(arr.size):\n",
    "        num = num+arr[i]*(2**i)\n",
    "    return num"
   ]
  },
  {
   "cell_type": "code",
   "execution_count": 162,
   "metadata": {},
   "outputs": [],
   "source": [
    "def full(encoded_arr):\n",
    "    arr = []\n",
    "    for i in range(5488):\n",
    "        arr.append(convert(encoded_arr[i]))\n",
    "    return arr\n",
    "encoded_genres=full(encoded_genres)\n",
    "encoded_countries=full(encoded_countries)\n",
    "encoded_type=full(encoded_type)"
   ]
  },
  {
   "cell_type": "code",
   "execution_count": 163,
   "metadata": {},
   "outputs": [
    {
     "data": {
      "text/plain": [
       "Index(['id', 'type', 'release_year', 'runtime', 'genres',\n",
       "       'production_countries', 'imdb_score', 'imdb_votes', 'cast', 'director'],\n",
       "      dtype='object')"
      ]
     },
     "execution_count": 163,
     "metadata": {},
     "output_type": "execute_result"
    }
   ],
   "source": [
    "tdf.columns"
   ]
  },
  {
   "cell_type": "code",
   "execution_count": 164,
   "metadata": {},
   "outputs": [
    {
     "data": {
      "text/html": [
       "<div>\n",
       "<style scoped>\n",
       "    .dataframe tbody tr th:only-of-type {\n",
       "        vertical-align: middle;\n",
       "    }\n",
       "\n",
       "    .dataframe tbody tr th {\n",
       "        vertical-align: top;\n",
       "    }\n",
       "\n",
       "    .dataframe thead th {\n",
       "        text-align: right;\n",
       "    }\n",
       "</style>\n",
       "<table border=\"1\" class=\"dataframe\">\n",
       "  <thead>\n",
       "    <tr style=\"text-align: right;\">\n",
       "      <th></th>\n",
       "      <th>release_year</th>\n",
       "      <th>runtime</th>\n",
       "      <th>imdb_score</th>\n",
       "      <th>imdb_votes</th>\n",
       "      <th>genres</th>\n",
       "      <th>production_countries</th>\n",
       "    </tr>\n",
       "  </thead>\n",
       "  <tbody>\n",
       "    <tr>\n",
       "      <th>0</th>\n",
       "      <td>1976</td>\n",
       "      <td>114</td>\n",
       "      <td>8.20</td>\n",
       "      <td>808582.0</td>\n",
       "      <td>40</td>\n",
       "      <td>1.267651e+30</td>\n",
       "    </tr>\n",
       "    <tr>\n",
       "      <th>1</th>\n",
       "      <td>1972</td>\n",
       "      <td>109</td>\n",
       "      <td>7.70</td>\n",
       "      <td>107673.0</td>\n",
       "      <td>65633</td>\n",
       "      <td>1.267651e+30</td>\n",
       "    </tr>\n",
       "    <tr>\n",
       "      <th>2</th>\n",
       "      <td>1975</td>\n",
       "      <td>91</td>\n",
       "      <td>8.20</td>\n",
       "      <td>534486.0</td>\n",
       "      <td>261</td>\n",
       "      <td>4.294967e+09</td>\n",
       "    </tr>\n",
       "    <tr>\n",
       "      <th>3</th>\n",
       "      <td>1967</td>\n",
       "      <td>150</td>\n",
       "      <td>7.70</td>\n",
       "      <td>72662.0</td>\n",
       "      <td>131073</td>\n",
       "      <td>1.267651e+30</td>\n",
       "    </tr>\n",
       "    <tr>\n",
       "      <th>4</th>\n",
       "      <td>1969</td>\n",
       "      <td>30</td>\n",
       "      <td>8.80</td>\n",
       "      <td>73424.0</td>\n",
       "      <td>68</td>\n",
       "      <td>4.294967e+09</td>\n",
       "    </tr>\n",
       "    <tr>\n",
       "      <th>...</th>\n",
       "      <td>...</td>\n",
       "      <td>...</td>\n",
       "      <td>...</td>\n",
       "      <td>...</td>\n",
       "      <td>...</td>\n",
       "      <td>...</td>\n",
       "    </tr>\n",
       "    <tr>\n",
       "      <th>5484</th>\n",
       "      <td>2022</td>\n",
       "      <td>26</td>\n",
       "      <td>6.26</td>\n",
       "      <td>84.2</td>\n",
       "      <td>0</td>\n",
       "      <td>0.000000e+00</td>\n",
       "    </tr>\n",
       "    <tr>\n",
       "      <th>5485</th>\n",
       "      <td>2021</td>\n",
       "      <td>115</td>\n",
       "      <td>7.10</td>\n",
       "      <td>50.0</td>\n",
       "      <td>8196</td>\n",
       "      <td>1.511157e+23</td>\n",
       "    </tr>\n",
       "    <tr>\n",
       "      <th>5486</th>\n",
       "      <td>2021</td>\n",
       "      <td>93</td>\n",
       "      <td>5.00</td>\n",
       "      <td>327.0</td>\n",
       "      <td>8228</td>\n",
       "      <td>1.342177e+08</td>\n",
       "    </tr>\n",
       "    <tr>\n",
       "      <th>5487</th>\n",
       "      <td>2021</td>\n",
       "      <td>100</td>\n",
       "      <td>6.80</td>\n",
       "      <td>45.0</td>\n",
       "      <td>8224</td>\n",
       "      <td>2.361183e+21</td>\n",
       "    </tr>\n",
       "    <tr>\n",
       "      <th>5488</th>\n",
       "      <td>2021</td>\n",
       "      <td>90</td>\n",
       "      <td>3.80</td>\n",
       "      <td>68.0</td>\n",
       "      <td>4</td>\n",
       "      <td>1.048576e+06</td>\n",
       "    </tr>\n",
       "  </tbody>\n",
       "</table>\n",
       "<p>5488 rows × 6 columns</p>\n",
       "</div>"
      ],
      "text/plain": [
       "      release_year  runtime  imdb_score  imdb_votes  genres  \\\n",
       "0             1976      114        8.20    808582.0      40   \n",
       "1             1972      109        7.70    107673.0   65633   \n",
       "2             1975       91        8.20    534486.0     261   \n",
       "3             1967      150        7.70     72662.0  131073   \n",
       "4             1969       30        8.80     73424.0      68   \n",
       "...            ...      ...         ...         ...     ...   \n",
       "5484          2022       26        6.26        84.2       0   \n",
       "5485          2021      115        7.10        50.0    8196   \n",
       "5486          2021       93        5.00       327.0    8228   \n",
       "5487          2021      100        6.80        45.0    8224   \n",
       "5488          2021       90        3.80        68.0       4   \n",
       "\n",
       "      production_countries  \n",
       "0             1.267651e+30  \n",
       "1             1.267651e+30  \n",
       "2             4.294967e+09  \n",
       "3             1.267651e+30  \n",
       "4             4.294967e+09  \n",
       "...                    ...  \n",
       "5484          0.000000e+00  \n",
       "5485          1.511157e+23  \n",
       "5486          1.342177e+08  \n",
       "5487          2.361183e+21  \n",
       "5488          1.048576e+06  \n",
       "\n",
       "[5488 rows x 6 columns]"
      ]
     },
     "execution_count": 164,
     "metadata": {},
     "output_type": "execute_result"
    }
   ],
   "source": [
    "fdf = pd.DataFrame()\n",
    "cols=['release_year', 'runtime',\n",
    "       'imdb_score', 'imdb_votes']\n",
    "for col in cols:\n",
    "    fdf[col]=tdf[col]\n",
    "fdf['genres']=encoded_genres\n",
    "fdf['production_countries']=encoded_countries\n",
    "# fdf['type']=encoded_type\n",
    "fdf"
   ]
  },
  {
   "cell_type": "code",
   "execution_count": 165,
   "metadata": {},
   "outputs": [],
   "source": [
    "from sklearn.cluster import KMeans\n",
    "kmeans = KMeans(n_clusters=25, init='k-means++', random_state=42, n_init=10)  # Use k-means++ for better initialization\n",
    "from sklearn.preprocessing import StandardScaler\n",
    "\n",
    "scaler = StandardScaler()\n",
    "scaled_features = scaler.fit_transform(fdf)\n",
    "kmeans.fit(scaled_features)\n",
    "\n",
    "# Get the cluster labels for each data point\n",
    "labels = kmeans.labels_\n",
    "\n",
    "# Get the coordinates of the cluster centers\n",
    "centers = kmeans.cluster_centers_"
   ]
  },
  {
   "cell_type": "code",
   "execution_count": 166,
   "metadata": {},
   "outputs": [
    {
     "data": {
      "text/plain": [
       "5488"
      ]
     },
     "execution_count": 166,
     "metadata": {},
     "output_type": "execute_result"
    }
   ],
   "source": [
    "labels.size"
   ]
  },
  {
   "cell_type": "code",
   "execution_count": 167,
   "metadata": {},
   "outputs": [],
   "source": [
    "unique, counts = np.unique(labels, return_counts=True)"
   ]
  },
  {
   "cell_type": "code",
   "execution_count": 168,
   "metadata": {},
   "outputs": [
    {
     "data": {
      "image/png": "[encoded data removed]",
      "text/plain": [
       "<Figure size 640x480 with 1 Axes>"
      ]
     },
     "metadata": {},
     "output_type": "display_data"
    }
   ],
   "source": [
    "import matplotlib.pyplot as plt\n",
    "plt.bar(unique,counts)  # Basic histogram\n",
    "for i, v in enumerate(counts):\n",
    "    plt.text(i, v + 0.2, str(v), ha='center')  # Adjust vertical offset as needed\n",
    "# Customize appearance (optional):\n",
    "plt.xlabel(\"Cluster Label\")\n",
    "plt.ylabel(\"No. of Movies in the Cluster\")\n",
    "plt.title(\"Cluster Sizes\")\n",
    "plt.grid(True)  # Add grid lines"
   ]
  },
  {
   "cell_type": "code",
   "execution_count": 169,
   "metadata": {},
   "outputs": [],
   "source": [
    "import pickle\n",
    "with open('cluster.pickle','wb') as f: #Creating and opening a file named linearregression.pickle\n",
    "    pickle.dump(kmeans, f)#Dumping clf into file f"
   ]
  },
  {
   "cell_type": "code",
   "execution_count": 170,
   "metadata": {},
   "outputs": [],
   "source": [
    "with open('my_dataframe.pkl', 'wb') as f:\n",
    "    pickle.dump(merged_df, f)"
   ]
  }
 ],
 "metadata": {
  "kernelspec": {
   "display_name": "mov_env",
   "language": "python",
   "name": "python3"
  },
  "language_info": {
   "codemirror_mode": {
    "name": "ipython",
    "version": 3
   },
   "file_extension": ".py",
   "mimetype": "text/x-python",
   "name": "python",
   "nbconvert_exporter": "python",
   "pygments_lexer": "ipython3",
   "version": "3.12.0"
  }
 },
 "nbformat": 4,
 "nbformat_minor": 2
}
